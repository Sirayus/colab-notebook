{
  "nbformat": 4,
  "nbformat_minor": 0,
  "metadata": {
    "kernelspec": {
      "language": "python",
      "display_name": "Python 3",
      "name": "python3"
    },
    "language_info": {
      "name": "python",
      "version": "3.7.10",
      "mimetype": "text/x-python",
      "codemirror_mode": {
        "name": "ipython",
        "version": 3
      },
      "pygments_lexer": "ipython3",
      "nbconvert_exporter": "python",
      "file_extension": ".py"
    },
    "colab": {
      "name": "study-python-string.ipynb",
      "provenance": [],
      "include_colab_link": true
    }
  },
  "cells": [
    {
      "cell_type": "markdown",
      "metadata": {
        "id": "view-in-github",
        "colab_type": "text"
      },
      "source": [
        "<a href=\"https://colab.research.google.com/github/Sirayus/colab-notebook/blob/main/study_python_string.ipynb\" target=\"_parent\"><img src=\"https://colab.research.google.com/assets/colab-badge.svg\" alt=\"Open In Colab\"/></a>"
      ]
    },
    {
      "cell_type": "markdown",
      "metadata": {
        "id": "7JCGQEPPyUJV"
      },
      "source": [
        "# Data Structure : String"
      ]
    },
    {
      "cell_type": "markdown",
      "metadata": {
        "id": "VyypLs5dyUJY"
      },
      "source": [
        "Practice problem from Tautology python book"
      ]
    },
    {
      "cell_type": "code",
      "metadata": {
        "execution": {
          "iopub.status.busy": "2021-05-23T11:28:52.742654Z",
          "iopub.execute_input": "2021-05-23T11:28:52.743042Z",
          "iopub.status.idle": "2021-05-23T11:28:52.749238Z",
          "shell.execute_reply.started": "2021-05-23T11:28:52.743008Z",
          "shell.execute_reply": "2021-05-23T11:28:52.748291Z"
        },
        "trusted": true,
        "id": "TTlA0VTvyUJY",
        "outputId": "19bbd5f6-ac9f-4698-d26f-b70fdef56d75"
      },
      "source": [
        "#1\n",
        "string1 = 'Python'\n",
        "print(string1, type(string1))"
      ],
      "execution_count": null,
      "outputs": [
        {
          "output_type": "stream",
          "text": [
            "Python <class 'str'>\n"
          ],
          "name": "stdout"
        }
      ]
    },
    {
      "cell_type": "code",
      "metadata": {
        "execution": {
          "iopub.status.busy": "2021-05-23T11:29:53.306516Z",
          "iopub.execute_input": "2021-05-23T11:29:53.307024Z",
          "iopub.status.idle": "2021-05-23T11:29:53.311937Z",
          "shell.execute_reply.started": "2021-05-23T11:29:53.306978Z",
          "shell.execute_reply": "2021-05-23T11:29:53.311042Z"
        },
        "trusted": true,
        "id": "Ebil7Y9vyUJZ",
        "outputId": "f1ec6189-e9a0-47e6-a993-483261aa9f75"
      },
      "source": [
        "#2\n",
        "string1 = 'Python'\n",
        "print(string1[0])"
      ],
      "execution_count": null,
      "outputs": [
        {
          "output_type": "stream",
          "text": [
            "P\n"
          ],
          "name": "stdout"
        }
      ]
    },
    {
      "cell_type": "code",
      "metadata": {
        "execution": {
          "iopub.status.busy": "2021-05-23T11:30:09.355750Z",
          "iopub.execute_input": "2021-05-23T11:30:09.356089Z",
          "iopub.status.idle": "2021-05-23T11:30:09.361227Z",
          "shell.execute_reply.started": "2021-05-23T11:30:09.356060Z",
          "shell.execute_reply": "2021-05-23T11:30:09.359889Z"
        },
        "trusted": true,
        "id": "X3tJpgQUyUJa",
        "outputId": "f0377e8c-afa7-48fc-ea58-1a87f924d73c"
      },
      "source": [
        "#3\n",
        "string1 = 'Python'\n",
        "print(string1[1])"
      ],
      "execution_count": null,
      "outputs": [
        {
          "output_type": "stream",
          "text": [
            "y\n"
          ],
          "name": "stdout"
        }
      ]
    },
    {
      "cell_type": "code",
      "metadata": {
        "execution": {
          "iopub.status.busy": "2021-05-23T11:30:25.914205Z",
          "iopub.execute_input": "2021-05-23T11:30:25.914571Z",
          "iopub.status.idle": "2021-05-23T11:30:25.920062Z",
          "shell.execute_reply.started": "2021-05-23T11:30:25.914542Z",
          "shell.execute_reply": "2021-05-23T11:30:25.919259Z"
        },
        "trusted": true,
        "id": "iXYwYpS0yUJa",
        "outputId": "aa220a7f-3f59-46fc-a74a-ecd7e148b262"
      },
      "source": [
        "#4\n",
        "string1 = 'Python'\n",
        "print(string1[-1])"
      ],
      "execution_count": null,
      "outputs": [
        {
          "output_type": "stream",
          "text": [
            "n\n"
          ],
          "name": "stdout"
        }
      ]
    },
    {
      "cell_type": "code",
      "metadata": {
        "execution": {
          "iopub.status.busy": "2021-05-23T11:30:37.424335Z",
          "iopub.execute_input": "2021-05-23T11:30:37.424718Z",
          "iopub.status.idle": "2021-05-23T11:30:37.430373Z",
          "shell.execute_reply.started": "2021-05-23T11:30:37.424685Z",
          "shell.execute_reply": "2021-05-23T11:30:37.429219Z"
        },
        "trusted": true,
        "id": "j5f5NUEsyUJa",
        "outputId": "53cb5eb4-ccde-497f-de6c-c2f3a61674d3"
      },
      "source": [
        "#5\n",
        "string1 = 'Python'\n",
        "print(string1[-2])"
      ],
      "execution_count": null,
      "outputs": [
        {
          "output_type": "stream",
          "text": [
            "o\n"
          ],
          "name": "stdout"
        }
      ]
    },
    {
      "cell_type": "code",
      "metadata": {
        "execution": {
          "iopub.status.busy": "2021-05-23T11:31:06.299086Z",
          "iopub.execute_input": "2021-05-23T11:31:06.299451Z",
          "iopub.status.idle": "2021-05-23T11:31:06.304477Z",
          "shell.execute_reply.started": "2021-05-23T11:31:06.299420Z",
          "shell.execute_reply": "2021-05-23T11:31:06.303392Z"
        },
        "trusted": true,
        "id": "5IQ8EvQhyUJb",
        "outputId": "c815513f-1e21-4e87-fdac-2448eb70764a"
      },
      "source": [
        "#6\n",
        "string1 = 'Python'\n",
        "print(string1[2])"
      ],
      "execution_count": null,
      "outputs": [
        {
          "output_type": "stream",
          "text": [
            "t\n"
          ],
          "name": "stdout"
        }
      ]
    },
    {
      "cell_type": "code",
      "metadata": {
        "execution": {
          "iopub.status.busy": "2021-05-23T11:31:22.747222Z",
          "iopub.execute_input": "2021-05-23T11:31:22.747600Z",
          "iopub.status.idle": "2021-05-23T11:31:22.752581Z",
          "shell.execute_reply.started": "2021-05-23T11:31:22.747568Z",
          "shell.execute_reply": "2021-05-23T11:31:22.751687Z"
        },
        "trusted": true,
        "id": "sFV3TarqyUJb",
        "outputId": "be266e44-8081-42e8-98d5-b489d1aeb9ea"
      },
      "source": [
        "#7\n",
        "string1 = 'Python'\n",
        "print(string1[3])"
      ],
      "execution_count": null,
      "outputs": [
        {
          "output_type": "stream",
          "text": [
            "h\n"
          ],
          "name": "stdout"
        }
      ]
    },
    {
      "cell_type": "code",
      "metadata": {
        "execution": {
          "iopub.status.busy": "2021-05-23T11:31:46.649082Z",
          "iopub.execute_input": "2021-05-23T11:31:46.649611Z",
          "iopub.status.idle": "2021-05-23T11:31:46.654663Z",
          "shell.execute_reply.started": "2021-05-23T11:31:46.649556Z",
          "shell.execute_reply": "2021-05-23T11:31:46.653716Z"
        },
        "trusted": true,
        "id": "LO_cKuWJyUJb",
        "outputId": "2d7cd646-06f5-4e0a-a555-d05ed13f41a8"
      },
      "source": [
        "#8\n",
        "string1 = 'Python'\n",
        "print(string1[1:4])"
      ],
      "execution_count": null,
      "outputs": [
        {
          "output_type": "stream",
          "text": [
            "yth\n"
          ],
          "name": "stdout"
        }
      ]
    },
    {
      "cell_type": "code",
      "metadata": {
        "execution": {
          "iopub.status.busy": "2021-05-23T11:32:42.703970Z",
          "iopub.execute_input": "2021-05-23T11:32:42.704682Z",
          "iopub.status.idle": "2021-05-23T11:32:42.709226Z",
          "shell.execute_reply.started": "2021-05-23T11:32:42.704645Z",
          "shell.execute_reply": "2021-05-23T11:32:42.708498Z"
        },
        "trusted": true,
        "id": "1V6dxWDByUJc",
        "outputId": "64239bc1-ea62-42ec-f20b-fee03320f3b1"
      },
      "source": [
        "#9\n",
        "string1 = 'Python'\n",
        "print(string1[2:-1])"
      ],
      "execution_count": null,
      "outputs": [
        {
          "output_type": "stream",
          "text": [
            "tho\n"
          ],
          "name": "stdout"
        }
      ]
    },
    {
      "cell_type": "code",
      "metadata": {
        "execution": {
          "iopub.status.busy": "2021-05-23T11:33:33.381824Z",
          "iopub.execute_input": "2021-05-23T11:33:33.382325Z",
          "iopub.status.idle": "2021-05-23T11:33:33.386566Z",
          "shell.execute_reply.started": "2021-05-23T11:33:33.382291Z",
          "shell.execute_reply": "2021-05-23T11:33:33.385835Z"
        },
        "trusted": true,
        "id": "lHvq6mw7yUJc",
        "outputId": "281c6a54-6c32-4e84-ecd4-1271dfe15c8b"
      },
      "source": [
        "#10\n",
        "string1 = 'Python'\n",
        "print(string1[2:])"
      ],
      "execution_count": null,
      "outputs": [
        {
          "output_type": "stream",
          "text": [
            "thon\n"
          ],
          "name": "stdout"
        }
      ]
    },
    {
      "cell_type": "code",
      "metadata": {
        "execution": {
          "iopub.status.busy": "2021-05-23T11:34:19.266555Z",
          "iopub.execute_input": "2021-05-23T11:34:19.266881Z",
          "iopub.status.idle": "2021-05-23T11:34:19.272188Z",
          "shell.execute_reply.started": "2021-05-23T11:34:19.266854Z",
          "shell.execute_reply": "2021-05-23T11:34:19.271039Z"
        },
        "trusted": true,
        "id": "hLRiGElxyUJc",
        "outputId": "66046a4c-0752-4a16-edb9-8110ee958828"
      },
      "source": [
        "#11\n",
        "string1 = 'Python'\n",
        "print(string1[-4:5])"
      ],
      "execution_count": null,
      "outputs": [
        {
          "output_type": "stream",
          "text": [
            "tho\n"
          ],
          "name": "stdout"
        }
      ]
    },
    {
      "cell_type": "code",
      "metadata": {
        "execution": {
          "iopub.status.busy": "2021-05-23T11:34:47.009673Z",
          "iopub.execute_input": "2021-05-23T11:34:47.009998Z",
          "iopub.status.idle": "2021-05-23T11:34:47.015830Z",
          "shell.execute_reply.started": "2021-05-23T11:34:47.009970Z",
          "shell.execute_reply": "2021-05-23T11:34:47.014674Z"
        },
        "trusted": true,
        "id": "xegyTm7FyUJc",
        "outputId": "73f4f3d6-cc7d-4b98-d308-abbd98fece26"
      },
      "source": [
        "#12\n",
        "string1 = 'Python'\n",
        "print(string1[-6:5])"
      ],
      "execution_count": null,
      "outputs": [
        {
          "output_type": "stream",
          "text": [
            "Pytho\n"
          ],
          "name": "stdout"
        }
      ]
    },
    {
      "cell_type": "code",
      "metadata": {
        "execution": {
          "iopub.status.busy": "2021-05-23T11:35:15.539870Z",
          "iopub.execute_input": "2021-05-23T11:35:15.540224Z",
          "iopub.status.idle": "2021-05-23T11:35:15.545603Z",
          "shell.execute_reply.started": "2021-05-23T11:35:15.540193Z",
          "shell.execute_reply": "2021-05-23T11:35:15.544092Z"
        },
        "trusted": true,
        "id": "S-cXBCmAyUJd",
        "outputId": "dcce3f3d-2c63-43fa-c35f-1608109c64c7"
      },
      "source": [
        "#13\n",
        "string1 = 'Python'\n",
        "print(string1[-4:-1])"
      ],
      "execution_count": null,
      "outputs": [
        {
          "output_type": "stream",
          "text": [
            "tho\n"
          ],
          "name": "stdout"
        }
      ]
    },
    {
      "cell_type": "code",
      "metadata": {
        "execution": {
          "iopub.status.busy": "2021-05-23T11:36:41.990048Z",
          "iopub.execute_input": "2021-05-23T11:36:41.990423Z",
          "iopub.status.idle": "2021-05-23T11:36:44.430526Z",
          "shell.execute_reply.started": "2021-05-23T11:36:41.990387Z",
          "shell.execute_reply": "2021-05-23T11:36:44.429410Z"
        },
        "trusted": true,
        "id": "iqJ0RaOSyUJd",
        "outputId": "82090816-675a-4e01-a2e8-3868001c764e"
      },
      "source": [
        "#14\n",
        "string = str(input())\n",
        "print(len(string))"
      ],
      "execution_count": null,
      "outputs": [
        {
          "output_type": "stream",
          "text": [
            " hhh\n"
          ],
          "name": "stdin"
        },
        {
          "output_type": "stream",
          "text": [
            "3\n"
          ],
          "name": "stdout"
        }
      ]
    },
    {
      "cell_type": "code",
      "metadata": {
        "execution": {
          "iopub.status.busy": "2021-05-23T14:52:54.368690Z",
          "iopub.execute_input": "2021-05-23T14:52:54.369069Z",
          "iopub.status.idle": "2021-05-23T14:52:59.456858Z",
          "shell.execute_reply.started": "2021-05-23T14:52:54.369038Z",
          "shell.execute_reply": "2021-05-23T14:52:59.455688Z"
        },
        "trusted": true,
        "id": "DOyZUFhbyUJd",
        "outputId": "44288518-2aa2-4639-a0b6-dfc2d65d2315"
      },
      "source": [
        "#15\n",
        "string = str(input())\n",
        "print(\"a\" in string)"
      ],
      "execution_count": null,
      "outputs": [
        {
          "output_type": "stream",
          "text": [
            " กระโดด\n"
          ],
          "name": "stdin"
        },
        {
          "output_type": "stream",
          "text": [
            "True\n"
          ],
          "name": "stdout"
        }
      ]
    },
    {
      "cell_type": "code",
      "metadata": {
        "execution": {
          "iopub.status.busy": "2021-05-23T14:53:49.800602Z",
          "iopub.execute_input": "2021-05-23T14:53:49.800976Z",
          "iopub.status.idle": "2021-05-23T14:53:49.806550Z",
          "shell.execute_reply.started": "2021-05-23T14:53:49.800940Z",
          "shell.execute_reply": "2021-05-23T14:53:49.805537Z"
        },
        "trusted": true,
        "id": "PzQ__lBYyUJd",
        "outputId": "4a67814e-557a-4790-e233-cfd05eb849f4"
      },
      "source": [
        "#16\n",
        "string1,string2 = ('happy', 'app')\n",
        "print(string2 in string1)"
      ],
      "execution_count": null,
      "outputs": [
        {
          "output_type": "stream",
          "text": [
            "True\n"
          ],
          "name": "stdout"
        }
      ]
    },
    {
      "cell_type": "code",
      "metadata": {
        "execution": {
          "iopub.status.busy": "2021-05-23T14:54:53.940617Z",
          "iopub.execute_input": "2021-05-23T14:54:53.941013Z",
          "iopub.status.idle": "2021-05-23T14:54:57.753226Z",
          "shell.execute_reply.started": "2021-05-23T14:54:53.940976Z",
          "shell.execute_reply": "2021-05-23T14:54:57.752290Z"
        },
        "trusted": true,
        "id": "agYYBFmQyUJe",
        "outputId": "0447a234-511d-4d27-a6c0-9eea19d619e7"
      },
      "source": [
        "#17\n",
        "string = str(input())\n",
        "print(string.replace('a','A'))"
      ],
      "execution_count": null,
      "outputs": [
        {
          "output_type": "stream",
          "text": [
            " abcaa\n"
          ],
          "name": "stdin"
        },
        {
          "output_type": "stream",
          "text": [
            "AbcAA\n"
          ],
          "name": "stdout"
        }
      ]
    },
    {
      "cell_type": "code",
      "metadata": {
        "execution": {
          "iopub.status.busy": "2021-05-23T14:56:40.132672Z",
          "iopub.execute_input": "2021-05-23T14:56:40.133074Z",
          "iopub.status.idle": "2021-05-23T14:56:44.798092Z",
          "shell.execute_reply.started": "2021-05-23T14:56:40.133040Z",
          "shell.execute_reply": "2021-05-23T14:56:44.796881Z"
        },
        "trusted": true,
        "id": "zfFIKa18yUJe",
        "outputId": "28b06e2d-5876-44f4-ba0f-5b0c51beb8c3"
      },
      "source": [
        "#18\n",
        "string = str(input())\n",
        "string2 = string.replace('a','A')\n",
        "print(string2)"
      ],
      "execution_count": null,
      "outputs": [
        {
          "output_type": "stream",
          "text": [
            " Cat\n"
          ],
          "name": "stdin"
        },
        {
          "output_type": "stream",
          "text": [
            "CAt\n"
          ],
          "name": "stdout"
        }
      ]
    },
    {
      "cell_type": "code",
      "metadata": {
        "execution": {
          "iopub.status.busy": "2021-05-23T14:58:42.324019Z",
          "iopub.execute_input": "2021-05-23T14:58:42.324376Z",
          "iopub.status.idle": "2021-05-23T14:58:46.747855Z",
          "shell.execute_reply.started": "2021-05-23T14:58:42.324345Z",
          "shell.execute_reply": "2021-05-23T14:58:46.747118Z"
        },
        "trusted": true,
        "id": "WCHQp20ryUJe",
        "outputId": "71658c2c-93d4-460c-b8ca-b6bff78b318d"
      },
      "source": [
        "#19\n",
        "sentence = str(input())\n",
        "list = sentence.split(' ')\n",
        "print(list)"
      ],
      "execution_count": null,
      "outputs": [
        {
          "output_type": "stream",
          "text": [
            " we love python\n"
          ],
          "name": "stdin"
        },
        {
          "output_type": "stream",
          "text": [
            "['we', 'love', 'python']\n"
          ],
          "name": "stdout"
        }
      ]
    },
    {
      "cell_type": "code",
      "metadata": {
        "execution": {
          "iopub.status.busy": "2021-05-23T15:00:16.530178Z",
          "iopub.execute_input": "2021-05-23T15:00:16.530529Z",
          "iopub.status.idle": "2021-05-23T15:00:34.928256Z",
          "shell.execute_reply.started": "2021-05-23T15:00:16.530499Z",
          "shell.execute_reply": "2021-05-23T15:00:34.927603Z"
        },
        "trusted": true,
        "id": "lry0y0--yUJe",
        "outputId": "9d1389b7-b537-4f2c-b037-0297a227442a"
      },
      "source": [
        "#20\n",
        "sentence = str(input('Input your sentence : '))\n",
        "c = str(input('Inpute your seperator : '))\n",
        "print(sentence.split(c))"
      ],
      "execution_count": null,
      "outputs": [
        {
          "output_type": "stream",
          "text": [
            "Input your sentence :  We,love,python,very,much\n",
            "Inpute your seperator :  ,\n"
          ],
          "name": "stdin"
        },
        {
          "output_type": "stream",
          "text": [
            "['We', 'love', 'python', 'very', 'much']\n"
          ],
          "name": "stdout"
        }
      ]
    },
    {
      "cell_type": "code",
      "metadata": {
        "execution": {
          "iopub.status.busy": "2021-05-23T15:02:07.770105Z",
          "iopub.execute_input": "2021-05-23T15:02:07.770448Z",
          "iopub.status.idle": "2021-05-23T15:02:12.078084Z",
          "shell.execute_reply.started": "2021-05-23T15:02:07.770416Z",
          "shell.execute_reply": "2021-05-23T15:02:12.076964Z"
        },
        "trusted": true,
        "id": "_f98STBVyUJf",
        "outputId": "76b9bb72-44d2-447c-9efa-2ca328809d47"
      },
      "source": [
        "#21\n",
        "str1 = str(input())\n",
        "str2 = str(input())\n",
        "print(str1+str2)"
      ],
      "execution_count": null,
      "outputs": [
        {
          "output_type": "stream",
          "text": [
            " Fri\n",
            " day\n"
          ],
          "name": "stdin"
        },
        {
          "output_type": "stream",
          "text": [
            "Friday\n"
          ],
          "name": "stdout"
        }
      ]
    }
  ]
}