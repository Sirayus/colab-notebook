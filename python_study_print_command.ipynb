{
  "nbformat": 4,
  "nbformat_minor": 5,
  "metadata": {
    "kernelspec": {
      "display_name": "Python 3",
      "language": "python",
      "name": "python3"
    },
    "language_info": {
      "codemirror_mode": {
        "name": "ipython",
        "version": 3
      },
      "file_extension": ".py",
      "mimetype": "text/x-python",
      "name": "python",
      "nbconvert_exporter": "python",
      "pygments_lexer": "ipython3",
      "version": "3.7.9"
    },
    "papermill": {
      "default_parameters": {},
      "duration": 9.094864,
      "end_time": "2021-05-16T14:25:21.271795",
      "environment_variables": {},
      "exception": null,
      "input_path": "__notebook__.ipynb",
      "output_path": "__notebook__.ipynb",
      "parameters": {},
      "start_time": "2021-05-16T14:25:12.176931",
      "version": "2.3.2"
    },
    "colab": {
      "name": "python-study-print-command.ipynb",
      "provenance": [],
      "include_colab_link": true
    }
  },
  "cells": [
    {
      "cell_type": "markdown",
      "metadata": {
        "id": "view-in-github",
        "colab_type": "text"
      },
      "source": [
        "<a href=\"https://colab.research.google.com/github/Sirayus/colab-notebook/blob/main/python_study_print_command.ipynb\" target=\"_parent\"><img src=\"https://colab.research.google.com/assets/colab-badge.svg\" alt=\"Open In Colab\"/></a>"
      ]
    },
    {
      "cell_type": "markdown",
      "metadata": {
        "papermill": {
          "duration": 0.022379,
          "end_time": "2021-05-16T14:25:18.563731",
          "exception": false,
          "start_time": "2021-05-16T14:25:18.541352",
          "status": "completed"
        },
        "tags": [],
        "id": "limited-crack"
      },
      "source": [
        "# Python problems"
      ],
      "id": "limited-crack"
    },
    {
      "cell_type": "code",
      "metadata": {
        "_cell_guid": "b1076dfc-b9ad-4769-8c92-a6c4dae69d19",
        "_uuid": "8f2839f25d086af736a60e9eeb907d3b93b6e0e5",
        "execution": {
          "iopub.execute_input": "2021-05-16T14:25:18.613455Z",
          "iopub.status.busy": "2021-05-16T14:25:18.612248Z",
          "iopub.status.idle": "2021-05-16T14:25:18.615649Z",
          "shell.execute_reply": "2021-05-16T14:25:18.616346Z"
        },
        "papermill": {
          "duration": 0.031338,
          "end_time": "2021-05-16T14:25:18.616675",
          "exception": false,
          "start_time": "2021-05-16T14:25:18.585337",
          "status": "completed"
        },
        "tags": [],
        "id": "elementary-effectiveness",
        "outputId": "e445d6b5-3f5c-45dc-fe4f-181dac790b43",
        "colab": {
          "base_uri": "https://localhost:8080/"
        }
      },
      "source": [
        "print('Hello')"
      ],
      "id": "elementary-effectiveness",
      "execution_count": 1,
      "outputs": [
        {
          "output_type": "stream",
          "text": [
            "Hello\n"
          ],
          "name": "stdout"
        }
      ]
    },
    {
      "cell_type": "code",
      "metadata": {
        "execution": {
          "iopub.execute_input": "2021-05-16T14:25:18.666810Z",
          "iopub.status.busy": "2021-05-16T14:25:18.666128Z",
          "iopub.status.idle": "2021-05-16T14:25:18.669819Z",
          "shell.execute_reply": "2021-05-16T14:25:18.669168Z"
        },
        "papermill": {
          "duration": 0.030434,
          "end_time": "2021-05-16T14:25:18.669952",
          "exception": false,
          "start_time": "2021-05-16T14:25:18.639518",
          "status": "completed"
        },
        "tags": [],
        "id": "center-bulgarian",
        "outputId": "8a8fcc72-cc3f-4d87-eab7-31704798c646",
        "colab": {
          "base_uri": "https://localhost:8080/"
        }
      },
      "source": [
        "print('Hello World')"
      ],
      "id": "center-bulgarian",
      "execution_count": 2,
      "outputs": [
        {
          "output_type": "stream",
          "text": [
            "Hello World\n"
          ],
          "name": "stdout"
        }
      ]
    },
    {
      "cell_type": "code",
      "metadata": {
        "execution": {
          "iopub.execute_input": "2021-05-16T14:25:18.719418Z",
          "iopub.status.busy": "2021-05-16T14:25:18.718640Z",
          "iopub.status.idle": "2021-05-16T14:25:18.722932Z",
          "shell.execute_reply": "2021-05-16T14:25:18.722070Z"
        },
        "papermill": {
          "duration": 0.030857,
          "end_time": "2021-05-16T14:25:18.723113",
          "exception": false,
          "start_time": "2021-05-16T14:25:18.692256",
          "status": "completed"
        },
        "tags": [],
        "id": "thorough-component",
        "outputId": "31dd61ea-41ec-42e6-e418-b14079e357ed",
        "colab": {
          "base_uri": "https://localhost:8080/"
        }
      },
      "source": [
        "print('hello_python')"
      ],
      "id": "thorough-component",
      "execution_count": 3,
      "outputs": [
        {
          "output_type": "stream",
          "text": [
            "hello_python\n"
          ],
          "name": "stdout"
        }
      ]
    },
    {
      "cell_type": "code",
      "metadata": {
        "execution": {
          "iopub.execute_input": "2021-05-16T14:25:18.780141Z",
          "iopub.status.busy": "2021-05-16T14:25:18.779192Z",
          "iopub.status.idle": "2021-05-16T14:25:18.783818Z",
          "shell.execute_reply": "2021-05-16T14:25:18.782701Z"
        },
        "papermill": {
          "duration": 0.034178,
          "end_time": "2021-05-16T14:25:18.784029",
          "exception": false,
          "start_time": "2021-05-16T14:25:18.749851",
          "status": "completed"
        },
        "tags": [],
        "id": "thick-weather",
        "outputId": "05946e12-0d91-4c5c-cc55-55b2e385fa83",
        "colab": {
          "base_uri": "https://localhost:8080/"
        }
      },
      "source": [
        "print(\"Merry X'Mas\")"
      ],
      "id": "thick-weather",
      "execution_count": 4,
      "outputs": [
        {
          "output_type": "stream",
          "text": [
            "Merry X'Mas\n"
          ],
          "name": "stdout"
        }
      ]
    },
    {
      "cell_type": "code",
      "metadata": {
        "execution": {
          "iopub.execute_input": "2021-05-16T14:25:18.838688Z",
          "iopub.status.busy": "2021-05-16T14:25:18.837986Z",
          "iopub.status.idle": "2021-05-16T14:25:18.841628Z",
          "shell.execute_reply": "2021-05-16T14:25:18.840742Z"
        },
        "papermill": {
          "duration": 0.032504,
          "end_time": "2021-05-16T14:25:18.841814",
          "exception": false,
          "start_time": "2021-05-16T14:25:18.809310",
          "status": "completed"
        },
        "tags": [],
        "id": "cultural-tobago",
        "outputId": "48e3110b-11e2-458a-ca63-61e2c9bbea0e",
        "colab": {
          "base_uri": "https://localhost:8080/"
        }
      },
      "source": [
        "print('I want to ask you \"Why don\\'t you drive to work\"')"
      ],
      "id": "cultural-tobago",
      "execution_count": 5,
      "outputs": [
        {
          "output_type": "stream",
          "text": [
            "I want to ask you \"Why don't you drive to work\"\n"
          ],
          "name": "stdout"
        }
      ]
    },
    {
      "cell_type": "code",
      "metadata": {
        "execution": {
          "iopub.execute_input": "2021-05-16T14:25:18.894518Z",
          "iopub.status.busy": "2021-05-16T14:25:18.893848Z",
          "iopub.status.idle": "2021-05-16T14:25:18.901369Z",
          "shell.execute_reply": "2021-05-16T14:25:18.900217Z"
        },
        "papermill": {
          "duration": 0.035392,
          "end_time": "2021-05-16T14:25:18.901584",
          "exception": false,
          "start_time": "2021-05-16T14:25:18.866192",
          "status": "completed"
        },
        "tags": [],
        "id": "received-croatia",
        "outputId": "0f03b9a1-e919-476d-901a-9d75260f8d57",
        "colab": {
          "base_uri": "https://localhost:8080/"
        }
      },
      "source": [
        "print('\"I don\\'t have a car\"')"
      ],
      "id": "received-croatia",
      "execution_count": 6,
      "outputs": [
        {
          "output_type": "stream",
          "text": [
            "\"I don't have a car\"\n"
          ],
          "name": "stdout"
        }
      ]
    },
    {
      "cell_type": "code",
      "metadata": {
        "execution": {
          "iopub.execute_input": "2021-05-16T14:25:18.955112Z",
          "iopub.status.busy": "2021-05-16T14:25:18.954258Z",
          "iopub.status.idle": "2021-05-16T14:25:18.957725Z",
          "shell.execute_reply": "2021-05-16T14:25:18.958399Z"
        },
        "papermill": {
          "duration": 0.032486,
          "end_time": "2021-05-16T14:25:18.958577",
          "exception": false,
          "start_time": "2021-05-16T14:25:18.926091",
          "status": "completed"
        },
        "tags": [],
        "id": "nominated-destination",
        "outputId": "284e8e16-fdee-4908-fa83-984fb240e005",
        "colab": {
          "base_uri": "https://localhost:8080/"
        }
      },
      "source": [
        "print('You got a new job!? That\\'s so exciting')"
      ],
      "id": "nominated-destination",
      "execution_count": 7,
      "outputs": [
        {
          "output_type": "stream",
          "text": [
            "You got a new job!? That's so exciting\n"
          ],
          "name": "stdout"
        }
      ]
    },
    {
      "cell_type": "code",
      "metadata": {
        "execution": {
          "iopub.execute_input": "2021-05-16T14:25:19.013786Z",
          "iopub.status.busy": "2021-05-16T14:25:19.012913Z",
          "iopub.status.idle": "2021-05-16T14:25:19.016099Z",
          "shell.execute_reply": "2021-05-16T14:25:19.016617Z"
        },
        "papermill": {
          "duration": 0.033348,
          "end_time": "2021-05-16T14:25:19.016790",
          "exception": false,
          "start_time": "2021-05-16T14:25:18.983442",
          "status": "completed"
        },
        "tags": [],
        "id": "communist-effect",
        "outputId": "9081d3f4-aed7-4644-de51-45bfd8843965",
        "colab": {
          "base_uri": "https://localhost:8080/"
        }
      },
      "source": [
        "print('สวัสดีวันจันทร์')"
      ],
      "id": "communist-effect",
      "execution_count": 8,
      "outputs": [
        {
          "output_type": "stream",
          "text": [
            "สวัสดีวันจันทร์\n"
          ],
          "name": "stdout"
        }
      ]
    },
    {
      "cell_type": "code",
      "metadata": {
        "execution": {
          "iopub.execute_input": "2021-05-16T14:25:19.071790Z",
          "iopub.status.busy": "2021-05-16T14:25:19.071099Z",
          "iopub.status.idle": "2021-05-16T14:25:19.075650Z",
          "shell.execute_reply": "2021-05-16T14:25:19.074438Z"
        },
        "papermill": {
          "duration": 0.033781,
          "end_time": "2021-05-16T14:25:19.075915",
          "exception": false,
          "start_time": "2021-05-16T14:25:19.042134",
          "status": "completed"
        },
        "tags": [],
        "id": "sporting-craft",
        "outputId": "6771e90f-80b9-4e72-870a-6e98d4166a4c",
        "colab": {
          "base_uri": "https://localhost:8080/"
        }
      },
      "source": [
        "print('ความแตกต่าง คือ \"การใช้เวลาให้เป็นประโยชน์\"')"
      ],
      "id": "sporting-craft",
      "execution_count": 9,
      "outputs": [
        {
          "output_type": "stream",
          "text": [
            "ความแตกต่าง คือ \"การใช้เวลาให้เป็นประโยชน์\"\n"
          ],
          "name": "stdout"
        }
      ]
    },
    {
      "cell_type": "code",
      "metadata": {
        "execution": {
          "iopub.execute_input": "2021-05-16T14:25:19.134472Z",
          "iopub.status.busy": "2021-05-16T14:25:19.133748Z",
          "iopub.status.idle": "2021-05-16T14:25:19.137958Z",
          "shell.execute_reply": "2021-05-16T14:25:19.137349Z"
        },
        "papermill": {
          "duration": 0.034746,
          "end_time": "2021-05-16T14:25:19.138107",
          "exception": false,
          "start_time": "2021-05-16T14:25:19.103361",
          "status": "completed"
        },
        "tags": [],
        "id": "governmental-planet",
        "outputId": "97b9b506-fbf7-4838-fabb-f357d3bdcdfb",
        "colab": {
          "base_uri": "https://localhost:8080/"
        }
      },
      "source": [
        "print(\"/\\\\/\\\\/\\\\\")"
      ],
      "id": "governmental-planet",
      "execution_count": 10,
      "outputs": [
        {
          "output_type": "stream",
          "text": [
            "/\\/\\/\\\n"
          ],
          "name": "stdout"
        }
      ]
    },
    {
      "cell_type": "code",
      "metadata": {
        "execution": {
          "iopub.execute_input": "2021-05-16T14:25:19.194622Z",
          "iopub.status.busy": "2021-05-16T14:25:19.193864Z",
          "iopub.status.idle": "2021-05-16T14:25:19.197293Z",
          "shell.execute_reply": "2021-05-16T14:25:19.197766Z"
        },
        "papermill": {
          "duration": 0.034172,
          "end_time": "2021-05-16T14:25:19.197941",
          "exception": false,
          "start_time": "2021-05-16T14:25:19.163769",
          "status": "completed"
        },
        "tags": [],
        "id": "dimensional-reach",
        "outputId": "b4d2f26c-44cf-4d38-847c-c69eaec27450",
        "colab": {
          "base_uri": "https://localhost:8080/"
        }
      },
      "source": [
        "print('''a\n",
        "an\n",
        "ant''')"
      ],
      "id": "dimensional-reach",
      "execution_count": 11,
      "outputs": [
        {
          "output_type": "stream",
          "text": [
            "a\n",
            "an\n",
            "ant\n"
          ],
          "name": "stdout"
        }
      ]
    },
    {
      "cell_type": "code",
      "metadata": {
        "execution": {
          "iopub.execute_input": "2021-05-16T14:25:19.257214Z",
          "iopub.status.busy": "2021-05-16T14:25:19.256520Z",
          "iopub.status.idle": "2021-05-16T14:25:19.259916Z",
          "shell.execute_reply": "2021-05-16T14:25:19.260650Z"
        },
        "papermill": {
          "duration": 0.036859,
          "end_time": "2021-05-16T14:25:19.260875",
          "exception": false,
          "start_time": "2021-05-16T14:25:19.224016",
          "status": "completed"
        },
        "tags": [],
        "id": "demographic-fantasy",
        "outputId": "a6c5a978-e2ad-4cb7-8a51-d20c364f3758",
        "colab": {
          "base_uri": "https://localhost:8080/"
        }
      },
      "source": [
        "print(\"\\t*\\n*\\t*\\t*\\n\\t*\")"
      ],
      "id": "demographic-fantasy",
      "execution_count": 12,
      "outputs": [
        {
          "output_type": "stream",
          "text": [
            "\t*\n",
            "*\t*\t*\n",
            "\t*\n"
          ],
          "name": "stdout"
        }
      ]
    },
    {
      "cell_type": "code",
      "metadata": {
        "execution": {
          "iopub.execute_input": "2021-05-16T14:25:19.321277Z",
          "iopub.status.busy": "2021-05-16T14:25:19.320323Z",
          "iopub.status.idle": "2021-05-16T14:25:19.323934Z",
          "shell.execute_reply": "2021-05-16T14:25:19.324458Z"
        },
        "papermill": {
          "duration": 0.036093,
          "end_time": "2021-05-16T14:25:19.324630",
          "exception": false,
          "start_time": "2021-05-16T14:25:19.288537",
          "status": "completed"
        },
        "tags": [],
        "id": "atomic-thailand",
        "outputId": "db64a543-de4b-4adc-b435-982801b75f62",
        "colab": {
          "base_uri": "https://localhost:8080/"
        }
      },
      "source": [
        "print(\"*\\t+\\t*\\n+\\t*\\t+\\n*\\t+\\t*\")"
      ],
      "id": "atomic-thailand",
      "execution_count": 13,
      "outputs": [
        {
          "output_type": "stream",
          "text": [
            "*\t+\t*\n",
            "+\t*\t+\n",
            "*\t+\t*\n"
          ],
          "name": "stdout"
        }
      ]
    },
    {
      "cell_type": "code",
      "metadata": {
        "execution": {
          "iopub.execute_input": "2021-05-16T14:25:19.384642Z",
          "iopub.status.busy": "2021-05-16T14:25:19.383830Z",
          "iopub.status.idle": "2021-05-16T14:25:19.386936Z",
          "shell.execute_reply": "2021-05-16T14:25:19.387471Z"
        },
        "papermill": {
          "duration": 0.03519,
          "end_time": "2021-05-16T14:25:19.387648",
          "exception": false,
          "start_time": "2021-05-16T14:25:19.352458",
          "status": "completed"
        },
        "tags": [],
        "id": "closing-anatomy",
        "outputId": "e804e191-4c66-4444-d2ee-2e52a4f45852",
        "colab": {
          "base_uri": "https://localhost:8080/"
        }
      },
      "source": [
        "print(\"Just because something\\nthinks differently from you,\\nDoes that mean it's not thinking ?\")"
      ],
      "id": "closing-anatomy",
      "execution_count": 14,
      "outputs": [
        {
          "output_type": "stream",
          "text": [
            "Just because something\n",
            "thinks differently from you,\n",
            "Does that mean it's not thinking ?\n"
          ],
          "name": "stdout"
        }
      ]
    },
    {
      "cell_type": "code",
      "metadata": {
        "execution": {
          "iopub.execute_input": "2021-05-16T14:25:19.448327Z",
          "iopub.status.busy": "2021-05-16T14:25:19.447454Z",
          "iopub.status.idle": "2021-05-16T14:25:19.450712Z",
          "shell.execute_reply": "2021-05-16T14:25:19.451249Z"
        },
        "papermill": {
          "duration": 0.036295,
          "end_time": "2021-05-16T14:25:19.451435",
          "exception": false,
          "start_time": "2021-05-16T14:25:19.415140",
          "status": "completed"
        },
        "tags": [],
        "id": "mineral-characterization",
        "outputId": "c3803c3f-e3ff-476d-fb28-e69dbf81c3f7",
        "colab": {
          "base_uri": "https://localhost:8080/"
        }
      },
      "source": [
        "print(\"\\\\\\t\\t/\\n\\tx\\n/\\t\\t\\\\\")"
      ],
      "id": "mineral-characterization",
      "execution_count": 15,
      "outputs": [
        {
          "output_type": "stream",
          "text": [
            "\\\t\t/\n",
            "\tx\n",
            "/\t\t\\\n"
          ],
          "name": "stdout"
        }
      ]
    },
    {
      "cell_type": "code",
      "metadata": {
        "execution": {
          "iopub.execute_input": "2021-05-16T14:25:19.514367Z",
          "iopub.status.busy": "2021-05-16T14:25:19.513468Z",
          "iopub.status.idle": "2021-05-16T14:25:19.517881Z",
          "shell.execute_reply": "2021-05-16T14:25:19.517129Z"
        },
        "papermill": {
          "duration": 0.038219,
          "end_time": "2021-05-16T14:25:19.518035",
          "exception": false,
          "start_time": "2021-05-16T14:25:19.479816",
          "status": "completed"
        },
        "tags": [],
        "id": "seeing-tourist",
        "outputId": "200dbb14-4753-4378-cabe-bd20ab32c266",
        "colab": {
          "base_uri": "https://localhost:8080/"
        }
      },
      "source": [
        "print(int(25))"
      ],
      "id": "seeing-tourist",
      "execution_count": 16,
      "outputs": [
        {
          "output_type": "stream",
          "text": [
            "25\n"
          ],
          "name": "stdout"
        }
      ]
    },
    {
      "cell_type": "code",
      "metadata": {
        "execution": {
          "iopub.execute_input": "2021-05-16T14:25:19.580755Z",
          "iopub.status.busy": "2021-05-16T14:25:19.579892Z",
          "iopub.status.idle": "2021-05-16T14:25:19.584513Z",
          "shell.execute_reply": "2021-05-16T14:25:19.583574Z"
        },
        "papermill": {
          "duration": 0.038155,
          "end_time": "2021-05-16T14:25:19.584714",
          "exception": false,
          "start_time": "2021-05-16T14:25:19.546559",
          "status": "completed"
        },
        "tags": [],
        "id": "circular-mother",
        "outputId": "d0d32dfc-cde7-4e68-d957-f7d7ee771bb5",
        "colab": {
          "base_uri": "https://localhost:8080/"
        }
      },
      "source": [
        "print(float(100.000000))"
      ],
      "id": "circular-mother",
      "execution_count": 17,
      "outputs": [
        {
          "output_type": "stream",
          "text": [
            "100.0\n"
          ],
          "name": "stdout"
        }
      ]
    },
    {
      "cell_type": "code",
      "metadata": {
        "execution": {
          "iopub.execute_input": "2021-05-16T14:25:19.649127Z",
          "iopub.status.busy": "2021-05-16T14:25:19.648111Z",
          "iopub.status.idle": "2021-05-16T14:25:19.651601Z",
          "shell.execute_reply": "2021-05-16T14:25:19.652100Z"
        },
        "papermill": {
          "duration": 0.037781,
          "end_time": "2021-05-16T14:25:19.652286",
          "exception": false,
          "start_time": "2021-05-16T14:25:19.614505",
          "status": "completed"
        },
        "tags": [],
        "id": "hidden-divide",
        "outputId": "f4aff718-587b-433f-da5e-c6eaf45b9734",
        "colab": {
          "base_uri": "https://localhost:8080/"
        }
      },
      "source": [
        "print(float(3.141592653589793))"
      ],
      "id": "hidden-divide",
      "execution_count": 18,
      "outputs": [
        {
          "output_type": "stream",
          "text": [
            "3.141592653589793\n"
          ],
          "name": "stdout"
        }
      ]
    },
    {
      "cell_type": "code",
      "metadata": {
        "execution": {
          "iopub.execute_input": "2021-05-16T14:25:19.717204Z",
          "iopub.status.busy": "2021-05-16T14:25:19.715888Z",
          "iopub.status.idle": "2021-05-16T14:25:19.720028Z",
          "shell.execute_reply": "2021-05-16T14:25:19.720776Z"
        },
        "papermill": {
          "duration": 0.038901,
          "end_time": "2021-05-16T14:25:19.721009",
          "exception": false,
          "start_time": "2021-05-16T14:25:19.682108",
          "status": "completed"
        },
        "tags": [],
        "id": "conceptual-search",
        "outputId": "99168f4f-c129-4049-d584-e9c973094b02",
        "colab": {
          "base_uri": "https://localhost:8080/"
        }
      },
      "source": [
        "a=2\n",
        "print(a)"
      ],
      "id": "conceptual-search",
      "execution_count": 19,
      "outputs": [
        {
          "output_type": "stream",
          "text": [
            "2\n"
          ],
          "name": "stdout"
        }
      ]
    },
    {
      "cell_type": "code",
      "metadata": {
        "execution": {
          "iopub.execute_input": "2021-05-16T14:25:19.787469Z",
          "iopub.status.busy": "2021-05-16T14:25:19.786445Z",
          "iopub.status.idle": "2021-05-16T14:25:19.790423Z",
          "shell.execute_reply": "2021-05-16T14:25:19.791189Z"
        },
        "papermill": {
          "duration": 0.039573,
          "end_time": "2021-05-16T14:25:19.791448",
          "exception": false,
          "start_time": "2021-05-16T14:25:19.751875",
          "status": "completed"
        },
        "tags": [],
        "id": "behind-hearing",
        "outputId": "2203bed4-838b-4084-ad4c-cef04f116455",
        "colab": {
          "base_uri": "https://localhost:8080/"
        }
      },
      "source": [
        "a=12.5\n",
        "print(a)"
      ],
      "id": "behind-hearing",
      "execution_count": 20,
      "outputs": [
        {
          "output_type": "stream",
          "text": [
            "12.5\n"
          ],
          "name": "stdout"
        }
      ]
    },
    {
      "cell_type": "code",
      "metadata": {
        "execution": {
          "iopub.execute_input": "2021-05-16T14:25:19.860368Z",
          "iopub.status.busy": "2021-05-16T14:25:19.859502Z",
          "iopub.status.idle": "2021-05-16T14:25:19.863682Z",
          "shell.execute_reply": "2021-05-16T14:25:19.863101Z"
        },
        "papermill": {
          "duration": 0.039963,
          "end_time": "2021-05-16T14:25:19.863835",
          "exception": false,
          "start_time": "2021-05-16T14:25:19.823872",
          "status": "completed"
        },
        "tags": [],
        "id": "engaging-atlantic",
        "outputId": "a98b989b-a288-494c-aaf1-18f9304287c8",
        "colab": {
          "base_uri": "https://localhost:8080/"
        }
      },
      "source": [
        "a=2\n",
        "b=3\n",
        "print(f\"{a} x {b} = \", a*b)"
      ],
      "id": "engaging-atlantic",
      "execution_count": 21,
      "outputs": [
        {
          "output_type": "stream",
          "text": [
            "2 x 3 =  6\n"
          ],
          "name": "stdout"
        }
      ]
    },
    {
      "cell_type": "code",
      "metadata": {
        "execution": {
          "iopub.execute_input": "2021-05-16T14:25:19.930957Z",
          "iopub.status.busy": "2021-05-16T14:25:19.929945Z",
          "iopub.status.idle": "2021-05-16T14:25:19.934110Z",
          "shell.execute_reply": "2021-05-16T14:25:19.933467Z"
        },
        "papermill": {
          "duration": 0.039753,
          "end_time": "2021-05-16T14:25:19.934293",
          "exception": false,
          "start_time": "2021-05-16T14:25:19.894540",
          "status": "completed"
        },
        "tags": [],
        "id": "eight-stone",
        "outputId": "d23151bd-da46-4ae1-9eab-9352616075e7",
        "colab": {
          "base_uri": "https://localhost:8080/"
        }
      },
      "source": [
        "a=2\n",
        "b=3\n",
        "print(f'{a} + {b} = {b} + {a} = ', a+b)"
      ],
      "id": "eight-stone",
      "execution_count": 22,
      "outputs": [
        {
          "output_type": "stream",
          "text": [
            "2 + 3 = 3 + 2 =  5\n"
          ],
          "name": "stdout"
        }
      ]
    },
    {
      "cell_type": "code",
      "metadata": {
        "execution": {
          "iopub.execute_input": "2021-05-16T14:25:20.004934Z",
          "iopub.status.busy": "2021-05-16T14:25:20.003817Z",
          "iopub.status.idle": "2021-05-16T14:25:20.008087Z",
          "shell.execute_reply": "2021-05-16T14:25:20.008875Z"
        },
        "papermill": {
          "duration": 0.044108,
          "end_time": "2021-05-16T14:25:20.009086",
          "exception": false,
          "start_time": "2021-05-16T14:25:19.964978",
          "status": "completed"
        },
        "tags": [],
        "id": "vanilla-gabriel",
        "outputId": "45db94e8-f268-44f3-d0ea-f49994ce22bd",
        "colab": {
          "base_uri": "https://localhost:8080/"
        }
      },
      "source": [
        "a=2\n",
        "b=3\n",
        "c=5\n",
        "print(f'{a}*({b} + {c}) = {a}*{b} + {a}*{c}')"
      ],
      "id": "vanilla-gabriel",
      "execution_count": 23,
      "outputs": [
        {
          "output_type": "stream",
          "text": [
            "2*(3 + 5) = 2*3 + 2*5\n"
          ],
          "name": "stdout"
        }
      ]
    },
    {
      "cell_type": "code",
      "metadata": {
        "execution": {
          "iopub.execute_input": "2021-05-16T14:25:20.082867Z",
          "iopub.status.busy": "2021-05-16T14:25:20.082114Z",
          "iopub.status.idle": "2021-05-16T14:25:20.086223Z",
          "shell.execute_reply": "2021-05-16T14:25:20.085574Z"
        },
        "papermill": {
          "duration": 0.040994,
          "end_time": "2021-05-16T14:25:20.086408",
          "exception": false,
          "start_time": "2021-05-16T14:25:20.045414",
          "status": "completed"
        },
        "tags": [],
        "id": "bronze-missouri",
        "outputId": "7687c04d-cb58-4a46-8327-38ef17903b6c",
        "colab": {
          "base_uri": "https://localhost:8080/"
        }
      },
      "source": [
        "a=2.4\n",
        "b=2.5\n",
        "print(f\"{a} + {b} = {a+b}000\")"
      ],
      "id": "bronze-missouri",
      "execution_count": 24,
      "outputs": [
        {
          "output_type": "stream",
          "text": [
            "2.4 + 2.5 = 4.9000\n"
          ],
          "name": "stdout"
        }
      ]
    },
    {
      "cell_type": "code",
      "metadata": {
        "execution": {
          "iopub.execute_input": "2021-05-16T14:25:20.157701Z",
          "iopub.status.busy": "2021-05-16T14:25:20.156950Z",
          "iopub.status.idle": "2021-05-16T14:25:20.162204Z",
          "shell.execute_reply": "2021-05-16T14:25:20.161638Z"
        },
        "papermill": {
          "duration": 0.042987,
          "end_time": "2021-05-16T14:25:20.162366",
          "exception": false,
          "start_time": "2021-05-16T14:25:20.119379",
          "status": "completed"
        },
        "tags": [],
        "id": "preceding-closing",
        "outputId": "e19f25c4-53a1-4397-a3ca-bd9b5ab1826a",
        "colab": {
          "base_uri": "https://localhost:8080/"
        }
      },
      "source": [
        "a=5\n",
        "b=2\n",
        "print(f'{a}.00 - {b}.00 = {a-b}.0000')"
      ],
      "id": "preceding-closing",
      "execution_count": 25,
      "outputs": [
        {
          "output_type": "stream",
          "text": [
            "5.00 - 2.00 = 3.0000\n"
          ],
          "name": "stdout"
        }
      ]
    },
    {
      "cell_type": "code",
      "metadata": {
        "execution": {
          "iopub.execute_input": "2021-05-16T14:25:20.233180Z",
          "iopub.status.busy": "2021-05-16T14:25:20.232501Z",
          "iopub.status.idle": "2021-05-16T14:25:20.236457Z",
          "shell.execute_reply": "2021-05-16T14:25:20.235924Z"
        },
        "papermill": {
          "duration": 0.041553,
          "end_time": "2021-05-16T14:25:20.236616",
          "exception": false,
          "start_time": "2021-05-16T14:25:20.195063",
          "status": "completed"
        },
        "tags": [],
        "id": "portuguese-celebrity",
        "outputId": "6393d657-d26b-4762-ed6d-aefe79d302cf",
        "colab": {
          "base_uri": "https://localhost:8080/"
        }
      },
      "source": [
        "birthday = 25\n",
        "print(f\"I was born on {birthday} December\")"
      ],
      "id": "portuguese-celebrity",
      "execution_count": 26,
      "outputs": [
        {
          "output_type": "stream",
          "text": [
            "I was born on 25 December\n"
          ],
          "name": "stdout"
        }
      ]
    },
    {
      "cell_type": "code",
      "metadata": {
        "execution": {
          "iopub.execute_input": "2021-05-16T14:25:20.310438Z",
          "iopub.status.busy": "2021-05-16T14:25:20.309730Z",
          "iopub.status.idle": "2021-05-16T14:25:20.314716Z",
          "shell.execute_reply": "2021-05-16T14:25:20.313947Z"
        },
        "papermill": {
          "duration": 0.04312,
          "end_time": "2021-05-16T14:25:20.314911",
          "exception": false,
          "start_time": "2021-05-16T14:25:20.271791",
          "status": "completed"
        },
        "tags": [],
        "id": "strong-order",
        "outputId": "ac8651d5-95a4-4719-e143-a1b8b131352a",
        "colab": {
          "base_uri": "https://localhost:8080/"
        }
      },
      "source": [
        "a=5\n",
        "b=100\n",
        "print(f\"{a} เท่าของ {b} มีค่าเท่ากับ {a*b}\")"
      ],
      "id": "strong-order",
      "execution_count": 27,
      "outputs": [
        {
          "output_type": "stream",
          "text": [
            "5 เท่าของ 100 มีค่าเท่ากับ 500\n"
          ],
          "name": "stdout"
        }
      ]
    },
    {
      "cell_type": "code",
      "metadata": {
        "execution": {
          "iopub.execute_input": "2021-05-16T14:25:20.388000Z",
          "iopub.status.busy": "2021-05-16T14:25:20.387128Z",
          "iopub.status.idle": "2021-05-16T14:25:20.390760Z",
          "shell.execute_reply": "2021-05-16T14:25:20.391276Z"
        },
        "papermill": {
          "duration": 0.042437,
          "end_time": "2021-05-16T14:25:20.391457",
          "exception": false,
          "start_time": "2021-05-16T14:25:20.349020",
          "status": "completed"
        },
        "tags": [],
        "id": "seasonal-opera",
        "outputId": "5c421817-dc88-48d9-a469-a44583e23742",
        "colab": {
          "base_uri": "https://localhost:8080/"
        }
      },
      "source": [
        "a=3.5\n",
        "print(f\"เขามีเงินมากกว่าฉัน {a}0 บาท\")"
      ],
      "id": "seasonal-opera",
      "execution_count": 28,
      "outputs": [
        {
          "output_type": "stream",
          "text": [
            "เขามีเงินมากกว่าฉัน 3.50 บาท\n"
          ],
          "name": "stdout"
        }
      ]
    },
    {
      "cell_type": "code",
      "metadata": {
        "execution": {
          "iopub.execute_input": "2021-05-16T14:25:20.462498Z",
          "iopub.status.busy": "2021-05-16T14:25:20.461497Z",
          "iopub.status.idle": "2021-05-16T14:25:20.468270Z",
          "shell.execute_reply": "2021-05-16T14:25:20.467536Z"
        },
        "papermill": {
          "duration": 0.043336,
          "end_time": "2021-05-16T14:25:20.468422",
          "exception": false,
          "start_time": "2021-05-16T14:25:20.425086",
          "status": "completed"
        },
        "tags": [],
        "id": "least-newfoundland",
        "outputId": "056afa4e-7ad2-4adf-c4ec-e496d467c5f6",
        "colab": {
          "base_uri": "https://localhost:8080/"
        }
      },
      "source": [
        "a=5\n",
        "print(\"ฉันได้กำไร {} %\".format(a))"
      ],
      "id": "least-newfoundland",
      "execution_count": 29,
      "outputs": [
        {
          "output_type": "stream",
          "text": [
            "ฉันได้กำไร 5 %\n"
          ],
          "name": "stdout"
        }
      ]
    },
    {
      "cell_type": "code",
      "metadata": {
        "execution": {
          "iopub.execute_input": "2021-05-16T14:25:20.544024Z",
          "iopub.status.busy": "2021-05-16T14:25:20.543375Z",
          "iopub.status.idle": "2021-05-16T14:25:20.546020Z",
          "shell.execute_reply": "2021-05-16T14:25:20.546536Z"
        },
        "papermill": {
          "duration": 0.042659,
          "end_time": "2021-05-16T14:25:20.546710",
          "exception": false,
          "start_time": "2021-05-16T14:25:20.504051",
          "status": "completed"
        },
        "tags": [],
        "id": "empirical-smooth",
        "outputId": "51ec7719-890e-4d9c-eac5-12a939eb4653",
        "colab": {
          "base_uri": "https://localhost:8080/"
        }
      },
      "source": [
        "a=2\n",
        "b=3.5\n",
        "print(f\"เมื่อวานฉันขาดทุน {a} % วันนี้ฉันได้กำไร {b}0 %\")"
      ],
      "id": "empirical-smooth",
      "execution_count": 30,
      "outputs": [
        {
          "output_type": "stream",
          "text": [
            "เมื่อวานฉันขาดทุน 2 % วันนี้ฉันได้กำไร 3.50 %\n"
          ],
          "name": "stdout"
        }
      ]
    },
    {
      "cell_type": "code",
      "metadata": {
        "execution": {
          "iopub.execute_input": "2021-05-16T14:25:20.620738Z",
          "iopub.status.busy": "2021-05-16T14:25:20.619775Z",
          "iopub.status.idle": "2021-05-16T14:25:20.625524Z",
          "shell.execute_reply": "2021-05-16T14:25:20.626092Z"
        },
        "papermill": {
          "duration": 0.044019,
          "end_time": "2021-05-16T14:25:20.626288",
          "exception": false,
          "start_time": "2021-05-16T14:25:20.582269",
          "status": "completed"
        },
        "tags": [],
        "id": "passing-hampshire",
        "outputId": "408afc4c-18b1-4979-8e4a-5941010dfd30",
        "colab": {
          "base_uri": "https://localhost:8080/"
        }
      },
      "source": [
        "a=2\n",
        "b=3.5\n",
        "print(f\"เมื่อวานฉันขาดทุน %d %% วันนี้ฉันได้กำไร %.2f %%\" %(a,b))"
      ],
      "id": "passing-hampshire",
      "execution_count": 31,
      "outputs": [
        {
          "output_type": "stream",
          "text": [
            "เมื่อวานฉันขาดทุน 2 % วันนี้ฉันได้กำไร 3.50 %\n"
          ],
          "name": "stdout"
        }
      ]
    }
  ]
}